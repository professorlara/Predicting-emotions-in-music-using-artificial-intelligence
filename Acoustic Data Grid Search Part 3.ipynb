{
 "cells": [
  {
   "cell_type": "code",
   "execution_count": 1,
   "id": "03a1c8be",
   "metadata": {},
   "outputs": [],
   "source": [
    "import pandas as pd\n",
    "import numpy as np"
   ]
  },
  {
   "cell_type": "code",
   "execution_count": 2,
   "id": "dad255a6",
   "metadata": {},
   "outputs": [],
   "source": [
    "# make sure the path is correct on your computer\n",
    "# if the data lives in the same folder, just say:\n",
    "# train = pd.read_csv('TRAIN acoustic data.csv')\n",
    "\n",
    "train = pd.read_csv('../Data/Acoustic Data/TRAIN acoustic data.csv')\n",
    "validate = pd.read_csv('../Data/Acoustic Data/VALIDATE acoustic data.csv')"
   ]
  },
  {
   "cell_type": "code",
   "execution_count": 3,
   "id": "531426d9",
   "metadata": {},
   "outputs": [],
   "source": [
    "all_float_or_int_features = []\n",
    "\n",
    "for column in train.columns:\n",
    "  if (train[column].dtype == 'float64' or train[column].dtype == 'int64') and column not in ['number_of_emotion_tags', 'valence_tags', 'arousal_tags', 'dominance_tags']:\n",
    "    all_float_or_int_features.append(column)\n",
    "\n",
    "# combine the train and validate data\n",
    "train_validate = pd.concat([train, validate], ignore_index=True, sort=False)\n",
    "del all_float_or_int_features[0]\n",
    "\n",
    "X_train_validate = train_validate[all_float_or_int_features].replace((np.inf, -np.inf, np.nan), 0)\n",
    "ytrain_validate_dominance = train_validate['dominance_tags']\n",
    "ytrain_validate_arousal = train_validate['arousal_tags']\n",
    "ytrain_validate_valence = train_validate['valence_tags']"
   ]
  },
  {
   "cell_type": "code",
   "execution_count": 5,
   "id": "d8e66995",
   "metadata": {},
   "outputs": [],
   "source": [
    "X_train = train[all_float_or_int_features].replace((np.inf, -np.inf, np.nan), 0)\n",
    "y_train = train['dominance_tags']\n",
    "X_test = validate[all_float_or_int_features].replace((np.inf, -np.inf, np.nan), 0)\n",
    "y_test = validate['dominance_tags']"
   ]
  },
  {
   "cell_type": "code",
   "execution_count": 6,
   "id": "4f6c4b65",
   "metadata": {},
   "outputs": [],
   "source": [
    "from sklearn.feature_selection import SelectKBest\n",
    "from sklearn.feature_selection import r_regression\n",
    "\n",
    "skb = SelectKBest(score_func=r_regression, k=64)\n",
    "\n",
    "# learn relationship from training data\n",
    "fit = skb.fit(X_train, y_train)\n",
    "\n",
    "cols = skb.get_support(indices=True)\n",
    "\n",
    "X_train_validate_feature_selection = X_train_validate.iloc[:,cols]\n",
    "X_train_feature_selection = X_train.iloc[:,cols]\n",
    "X_test_feature_selection = X_test.iloc[:,cols]"
   ]
  },
  {
   "cell_type": "markdown",
   "id": "9162f174",
   "metadata": {},
   "source": [
    "## Random forest regression was the best from before\n",
    "- max_score: 0.781944\t\n",
    "- mean_score: 0.755671\n",
    "- min_score: 0.718304\t\n",
    "- stdv: 0.020005\n",
    "- min_samples_leaf: 10\t\n",
    "- n_estimators: 68\t\n",
    "\n",
    "# so we are aiming for MAE ~ 0.7556"
   ]
  },
  {
   "cell_type": "code",
   "execution_count": 9,
   "id": "3a0f97cc",
   "metadata": {},
   "outputs": [
    {
     "name": "stdout",
     "output_type": "stream",
     "text": [
      "2.11.0\n"
     ]
    }
   ],
   "source": [
    "import tensorflow as tf\n",
    "from tensorflow import keras\n",
    "from tensorflow.keras import layers\n",
    "import matplotlib.pyplot as plt\n",
    "\n",
    "print(tf.__version__)"
   ]
  },
  {
   "cell_type": "code",
   "execution_count": 10,
   "id": "7eab3238",
   "metadata": {},
   "outputs": [
    {
     "data": {
      "text/html": [
       "<div>\n",
       "<style scoped>\n",
       "    .dataframe tbody tr th:only-of-type {\n",
       "        vertical-align: middle;\n",
       "    }\n",
       "\n",
       "    .dataframe tbody tr th {\n",
       "        vertical-align: top;\n",
       "    }\n",
       "\n",
       "    .dataframe thead th {\n",
       "        text-align: right;\n",
       "    }\n",
       "</style>\n",
       "<table border=\"1\" class=\"dataframe\">\n",
       "  <thead>\n",
       "    <tr style=\"text-align: right;\">\n",
       "      <th></th>\n",
       "      <th>mean</th>\n",
       "      <th>std</th>\n",
       "    </tr>\n",
       "  </thead>\n",
       "  <tbody>\n",
       "    <tr>\n",
       "      <th>acousticbrainz_danceability</th>\n",
       "      <td>1.116085</td>\n",
       "      <td>0.166020</td>\n",
       "    </tr>\n",
       "    <tr>\n",
       "      <th>acousticbrainz_onset_rate</th>\n",
       "      <td>3.273201</td>\n",
       "      <td>0.903013</td>\n",
       "    </tr>\n",
       "    <tr>\n",
       "      <th>acousticbrainz_chords_strength_dmean</th>\n",
       "      <td>0.010308</td>\n",
       "      <td>0.002290</td>\n",
       "    </tr>\n",
       "    <tr>\n",
       "      <th>acousticbrainz_hpcp_entropy_dvar</th>\n",
       "      <td>0.275989</td>\n",
       "      <td>0.052996</td>\n",
       "    </tr>\n",
       "    <tr>\n",
       "      <th>acousticbrainz_lowlevel_barkbands_spread_dmean</th>\n",
       "      <td>5.408521</td>\n",
       "      <td>2.329809</td>\n",
       "    </tr>\n",
       "    <tr>\n",
       "      <th>...</th>\n",
       "      <td>...</td>\n",
       "      <td>...</td>\n",
       "    </tr>\n",
       "    <tr>\n",
       "      <th>acousticbrainz_lowlevel_spectral_contrast_coeffs_var2</th>\n",
       "      <td>0.005474</td>\n",
       "      <td>0.002347</td>\n",
       "    </tr>\n",
       "    <tr>\n",
       "      <th>acousticbrainz_lowlevel_spectral_contrast_coeffs_var3</th>\n",
       "      <td>0.003690</td>\n",
       "      <td>0.001653</td>\n",
       "    </tr>\n",
       "    <tr>\n",
       "      <th>acousticbrainz_lowlevel_spectral_contrast_valleys_dmean0</th>\n",
       "      <td>0.404389</td>\n",
       "      <td>0.060221</td>\n",
       "    </tr>\n",
       "    <tr>\n",
       "      <th>acousticbrainz_lowlevel_spectral_contrast_valleys_dmean1</th>\n",
       "      <td>0.368479</td>\n",
       "      <td>0.070157</td>\n",
       "    </tr>\n",
       "    <tr>\n",
       "      <th>acousticbrainz_lowlevel_spectral_contrast_valleys_dmean3</th>\n",
       "      <td>0.315148</td>\n",
       "      <td>0.084377</td>\n",
       "    </tr>\n",
       "  </tbody>\n",
       "</table>\n",
       "<p>64 rows × 2 columns</p>\n",
       "</div>"
      ],
      "text/plain": [
       "                                                        mean       std\n",
       "acousticbrainz_danceability                         1.116085  0.166020\n",
       "acousticbrainz_onset_rate                           3.273201  0.903013\n",
       "acousticbrainz_chords_strength_dmean                0.010308  0.002290\n",
       "acousticbrainz_hpcp_entropy_dvar                    0.275989  0.052996\n",
       "acousticbrainz_lowlevel_barkbands_spread_dmean      5.408521  2.329809\n",
       "...                                                      ...       ...\n",
       "acousticbrainz_lowlevel_spectral_contrast_coeff...  0.005474  0.002347\n",
       "acousticbrainz_lowlevel_spectral_contrast_coeff...  0.003690  0.001653\n",
       "acousticbrainz_lowlevel_spectral_contrast_valle...  0.404389  0.060221\n",
       "acousticbrainz_lowlevel_spectral_contrast_valle...  0.368479  0.070157\n",
       "acousticbrainz_lowlevel_spectral_contrast_valle...  0.315148  0.084377\n",
       "\n",
       "[64 rows x 2 columns]"
      ]
     },
     "execution_count": 10,
     "metadata": {},
     "output_type": "execute_result"
    }
   ],
   "source": [
    "# First, in a NN it is good practice to normalize features that use different scales and ranges.\n",
    "\n",
    "X_train_feature_selection.describe().transpose()[['mean', 'std']]"
   ]
  },
  {
   "cell_type": "code",
   "execution_count": 11,
   "id": "b4ebfe77",
   "metadata": {},
   "outputs": [
    {
     "name": "stderr",
     "output_type": "stream",
     "text": [
      "2023-02-07 10:47:00.499322: W tensorflow/tsl/platform/profile_utils/cpu_utils.cc:128] Failed to get CPU frequency: 0 Hz\n"
     ]
    },
    {
     "name": "stdout",
     "output_type": "stream",
     "text": [
      "[[ 1.11608481e+00  3.27320099e+00  1.03077004e-02  2.75988966e-01\n",
      "   5.40851831e+00  5.88544807e+01  1.27839035e+02  2.53018522e+00\n",
      "   6.15738487e+00  1.49906826e+01  3.87386680e-01  1.80395901e-01\n",
      "   7.83198547e+00  1.19321918e+01  9.79076462e+01  2.15875183e+02\n",
      "   1.49953339e+02  3.65218170e+02  1.10038170e+02  2.35958679e+02\n",
      "   2.11532806e+02  4.82085906e-03  1.84982587e-02  3.69943120e-02\n",
      "   1.78598389e-02  3.95749025e-02  2.14138794e+02  3.24342377e+02\n",
      "   9.32430000e+04  1.84289703e+05  1.45362597e+01  2.82917309e+01\n",
      "   3.74758020e-02  1.00428634e-03  3.38118672e-01  4.14722337e-04\n",
      "   6.00206491e-04  2.56959535e-02  4.05431502e-02  1.29401265e-03\n",
      "   5.83665875e+05  8.51380250e+05  7.36145048e+11  1.37840191e+12\n",
      "   4.52238150e+06  5.30329453e-05  5.30329453e-05  6.54199183e-01\n",
      "   6.59865748e-07  5.46442209e-07  3.03235669e-02  2.30206624e-02\n",
      "   1.80298858e-03  1.47807749e-03  6.64387597e-04  4.28696454e-04\n",
      "  -4.01853919e-01 -4.65579540e-01 -5.34890950e-01  5.47444401e-03\n",
      "   3.68995266e-03  4.04388964e-01  3.68478745e-01  3.15148324e-01]]\n"
     ]
    }
   ],
   "source": [
    "# we can do this with a normalization layer\n",
    "normalizer = tf.keras.layers.Normalization(axis=-1)\n",
    "normalizer.adapt(np.array(X_train_feature_selection))\n",
    "print(normalizer.mean.numpy())"
   ]
  },
  {
   "cell_type": "code",
   "execution_count": 12,
   "id": "a3b67fe2",
   "metadata": {},
   "outputs": [],
   "source": [
    "# now use a tf.keras.Sequential model, which represents a sequence of steps.\n",
    "# this is a neural network with ONE layer and ONE node\n",
    "linear_model = tf.keras.Sequential([\n",
    "    normalizer,\n",
    "    layers.Dense(units=1)\n",
    "])\n",
    "\n",
    "linear_model.compile(\n",
    "    optimizer=tf.keras.optimizers.Adam(learning_rate=0.1),\n",
    "    loss='mean_absolute_error')\n",
    "\n",
    "# fitting the model with train and validate - you can see it does\n",
    "# its own validation as it learns\n",
    "\n",
    "history = linear_model.fit(\n",
    "    X_train_feature_selection,\n",
    "    y_train,\n",
    "    epochs=100,\n",
    "    # Suppress logging.\n",
    "    verbose=0,\n",
    "    # Calculate validation results on 20% of the training data.\n",
    "    validation_split = 0.2)\n"
   ]
  },
  {
   "cell_type": "code",
   "execution_count": 13,
   "id": "17b37b22",
   "metadata": {},
   "outputs": [],
   "source": [
    "def plot_loss(history):\n",
    "    plt.plot(history.history['loss'], label='loss')\n",
    "    plt.plot(history.history['val_loss'], label='val_loss')\n",
    "    plt.ylim()\n",
    "    plt.xlabel('Epoch')\n",
    "    plt.ylabel('Error [dominance]')\n",
    "    plt.legend()\n",
    "    plt.grid(True)"
   ]
  },
  {
   "cell_type": "code",
   "execution_count": 14,
   "id": "ebfbc342",
   "metadata": {},
   "outputs": [
    {
     "name": "stdout",
     "output_type": "stream",
     "text": [
      "Model: \"sequential\"\n",
      "_________________________________________________________________\n",
      " Layer (type)                Output Shape              Param #   \n",
      "=================================================================\n",
      " normalization (Normalizatio  (None, 64)               129       \n",
      " n)                                                              \n",
      "                                                                 \n",
      " dense (Dense)               (None, 1)                 65        \n",
      "                                                                 \n",
      "=================================================================\n",
      "Total params: 194\n",
      "Trainable params: 65\n",
      "Non-trainable params: 129\n",
      "_________________________________________________________________\n"
     ]
    }
   ],
   "source": [
    "linear_model.summary()"
   ]
  },
  {
   "cell_type": "code",
   "execution_count": 15,
   "id": "1b13dc4a",
   "metadata": {},
   "outputs": [
    {
     "data": {
      "image/png": "[encoded data removed]",
      "text/plain": [
       "<Figure size 640x480 with 1 Axes>"
      ]
     },
     "metadata": {},
     "output_type": "display_data"
    }
   ],
   "source": [
    "# The training loss (blue) indicates how well the model is fitting the training data, \n",
    "# while the validation loss indicates how well the model fits the validation data (20% subsets). \n",
    "plot_loss(history)"
   ]
  },
  {
   "cell_type": "code",
   "execution_count": 16,
   "id": "e66150c3",
   "metadata": {},
   "outputs": [],
   "source": [
    "test_results = {}\n",
    "\n",
    "test_results['linear_model'] = linear_model.evaluate(\n",
    "    X_test_feature_selection, y_test, verbose=0)"
   ]
  },
  {
   "cell_type": "code",
   "execution_count": 17,
   "id": "8d455efd",
   "metadata": {},
   "outputs": [
    {
     "data": {
      "text/plain": [
       "{'linear_model': 1.2721644639968872}"
      ]
     },
     "execution_count": 17,
     "metadata": {},
     "output_type": "execute_result"
    }
   ],
   "source": [
    "test_results"
   ]
  },
  {
   "cell_type": "code",
   "execution_count": 18,
   "id": "4f6109e1",
   "metadata": {},
   "outputs": [
    {
     "name": "stdout",
     "output_type": "stream",
     "text": [
      "Model: \"sequential_1\"\n",
      "_________________________________________________________________\n",
      " Layer (type)                Output Shape              Param #   \n",
      "=================================================================\n",
      " normalization (Normalizatio  (None, 64)               129       \n",
      " n)                                                              \n",
      "                                                                 \n",
      " dense_1 (Dense)             (None, 64)                4160      \n",
      "                                                                 \n",
      " dense_2 (Dense)             (None, 64)                4160      \n",
      "                                                                 \n",
      " dense_3 (Dense)             (None, 1)                 65        \n",
      "                                                                 \n",
      "=================================================================\n",
      "Total params: 8,514\n",
      "Trainable params: 8,385\n",
      "Non-trainable params: 129\n",
      "_________________________________________________________________\n"
     ]
    }
   ],
   "source": [
    "# That was a single layer neural network so let's try to do better! Basically one node to learn the entire problem\n",
    "\n",
    "# here is just a basic mod\n",
    "\n",
    "standard_dnn_model = keras.Sequential([\n",
    "      normalizer,\n",
    "      layers.Dense(64, activation='relu'),\n",
    "      layers.Dense(64, activation='relu'),\n",
    "      layers.Dense(1)\n",
    "  ])\n",
    "\n",
    "standard_dnn_model.compile(loss='mean_absolute_error',\n",
    "                optimizer=tf.keras.optimizers.Adam(0.001))\n",
    "\n",
    "standard_dnn_model.summary()"
   ]
  },
  {
   "cell_type": "code",
   "execution_count": 19,
   "id": "fd75f44f",
   "metadata": {},
   "outputs": [],
   "source": [
    "history = standard_dnn_model.fit(\n",
    "    X_train_feature_selection,\n",
    "    y_train,\n",
    "    epochs=100,\n",
    "    # Suppress logging.\n",
    "    verbose=0,\n",
    "    # Calculate validation results on 20% of the training data.\n",
    "    validation_split = 0.2)"
   ]
  },
  {
   "cell_type": "code",
   "execution_count": 20,
   "id": "99e1f2fb",
   "metadata": {},
   "outputs": [
    {
     "data": {
      "image/png": "[encoded data removed]",
      "text/plain": [
       "<Figure size 640x480 with 1 Axes>"
      ]
     },
     "metadata": {},
     "output_type": "display_data"
    }
   ],
   "source": [
    "plot_loss(history)"
   ]
  },
  {
   "cell_type": "code",
   "execution_count": 21,
   "id": "7759a0e2",
   "metadata": {},
   "outputs": [
    {
     "data": {
      "text/plain": [
       "{'linear_model': 1.2721644639968872, 'standard_dnn_model': 0.8905330300331116}"
      ]
     },
     "execution_count": 21,
     "metadata": {},
     "output_type": "execute_result"
    }
   ],
   "source": [
    "test_results['standard_dnn_model'] = standard_dnn_model.evaluate(\n",
    "    X_test_feature_selection, y_test, verbose=0)\n",
    "\n",
    "test_results"
   ]
  },
  {
   "cell_type": "markdown",
   "id": "722f5842",
   "metadata": {},
   "source": [
    "# keras_tuner for grid search"
   ]
  },
  {
   "cell_type": "code",
   "execution_count": 22,
   "id": "38c2a341",
   "metadata": {},
   "outputs": [],
   "source": [
    "# let's use keras_tuner\n",
    "# https://keras.io/keras_tuner/\n",
    "# https://keras.io/guides/keras_tuner/getting_started/\n",
    "import keras_tuner"
   ]
  },
  {
   "cell_type": "code",
   "execution_count": 39,
   "id": "7798265f",
   "metadata": {},
   "outputs": [
    {
     "name": "stdout",
     "output_type": "stream",
     "text": [
      "Trial 10 Complete [00h 00m 23s]\n",
      "val_loss: 5.438483715057373\n",
      "\n",
      "Best val_loss So Far: 0.7680091261863708\n",
      "Total elapsed time: 00h 04m 57s\n",
      "INFO:tensorflow:Oracle triggered exit\n"
     ]
    }
   ],
   "source": [
    "def build_model(hp):\n",
    "    model = keras.Sequential()\n",
    "    #model.add(normalizer)\n",
    "    model.add(layers.Flatten())\n",
    "    \n",
    "    # Tune the number of layers.\n",
    "    for i in range(hp.Int(\"num_layers\", 1, 5)): # test 1-5 layers of neurons\n",
    "        model.add(\n",
    "            layers.Dense(\n",
    "                # Tune number of units separately.\n",
    "                units=hp.Int(f\"units_{i}\", min_value=32, max_value=512, step=32), # how many neurons in our layers? \n",
    "                # NOTE that our number of neurons should be 2 to the power of (some number) = [2, 4, 16, 32, 64, ...]\n",
    "                activation=hp.Choice(\"activation\", [\"relu\", \"tanh\"]), # https://towardsdatascience.com/activation-functions-neural-networks-1cbd9f8d91d6\n",
    "            )\n",
    "        )\n",
    "    '''\n",
    "    # for single layer you can just add a layer and test different neuron amounts\n",
    "    model.add(\n",
    "        layers.Dense(\n",
    "            # Tune number of units.\n",
    "            units=hp.Int(\"units\", min_value=32, max_value=512, step=32),\n",
    "            # Tune the activation function to use.\n",
    "            activation=hp.Choice(\"activation\", [\"relu\", \"tanh\"]),\n",
    "        )\n",
    "    )\n",
    "    '''\n",
    "    # Tune whether to use dropout.\n",
    "    # https://medium.com/analytics-vidhya/a-simple-introduction-to-dropout-regularization-with-code-5279489dda1e\n",
    "    if hp.Boolean(\"dropout\"):\n",
    "        model.add(layers.Dropout(rate=0.25))\n",
    "        \n",
    "    # the output layer - let's just make it a layer with 1 neuron and a RELU activation\n",
    "    # because we want the numbers to go above 1 and we dont want them negative - it's perfect!\n",
    "    model.add(layers.Dense(1, activation=\"relu\"))\n",
    "    \n",
    "    # Define the optimizer learning rate as a hyperparameter for the Adam optimization\n",
    "    learning_rate = hp.Float(\"lr\", min_value=1e-4, max_value=1e-2, sampling=\"log\")\n",
    "    \n",
    "    # Adam tends to be a generally great choice for optimization so we'll stick with that\n",
    "    model.compile(\n",
    "        optimizer=keras.optimizers.Adam(learning_rate=learning_rate),\n",
    "        loss=\"mean_absolute_error\",\n",
    "        metrics=[\"mean_absolute_error\"],\n",
    "    )\n",
    "    return model\n",
    "\n",
    "tuner = keras_tuner.RandomSearch(\n",
    "    build_model,\n",
    "    objective='val_loss',\n",
    "    max_trials=10\n",
    ")\n",
    "\n",
    "# Start the search and get the best model:\n",
    "    \n",
    "tuner.search(X_train_feature_selection, y_train, epochs=100, validation_data=(X_test_feature_selection, y_test))"
   ]
  },
  {
   "cell_type": "code",
   "execution_count": 61,
   "id": "549beca3",
   "metadata": {},
   "outputs": [
    {
     "name": "stdout",
     "output_type": "stream",
     "text": [
      "Trial 10 Complete [00h 00m 27s]\n",
      "val_loss: 0.8245854377746582\n",
      "\n",
      "Best val_loss So Far: 0.8240228891372681\n",
      "Total elapsed time: 00h 03m 42s\n",
      "INFO:tensorflow:Oracle triggered exit\n"
     ]
    }
   ],
   "source": [
    "def build_model(hp):\n",
    "    model = keras.Sequential()\n",
    "    model.add(layers.Flatten())\n",
    "    # Tune the number of layers.\n",
    "    for i in range(hp.Int(\"num_layers\", 1, 5)): # test 1-5 layers of neurons\n",
    "        model.add(\n",
    "            layers.Dense(\n",
    "                # Tune number of units separately.\n",
    "                units=hp.Int(f\"units_{i}\", min_value=32, max_value=512, step=32), # how many neurons in our layers?\n",
    "                activation=hp.Choice(\"activation\", [\"relu\", \"tanh\"]), # https://towardsdatascience.com/activation-functions-neural-networks-1cbd9f8d91d6\n",
    "            )\n",
    "        )\n",
    "    '''\n",
    "    # for single layer you can just add a layer and test different neuron amounts\n",
    "    model.add(\n",
    "        layers.Dense(\n",
    "            # Tune number of units.\n",
    "            units=hp.Int(\"units\", min_value=32, max_value=512, step=32),\n",
    "            # Tune the activation function to use.\n",
    "            activation=hp.Choice(\"activation\", [\"relu\", \"tanh\"]),\n",
    "        )\n",
    "    )\n",
    "    '''\n",
    "    # Tune whether to use dropout.\n",
    "    # https://medium.com/analytics-vidhya/a-simple-introduction-to-dropout-regularization-with-code-5279489dda1e\n",
    "    if hp.Boolean(\"dropout\"):\n",
    "        model.add(layers.Dropout(rate=0.25))\n",
    "        \n",
    "    # the output layer - let's just make it a layer with 1 neuron and a RELU activation\n",
    "    # because we want the numbers to go above 1 and we dont want them negative - it's perfect!\n",
    "    model.add(layers.Dense(1, activation=\"relu\"))\n",
    "    \n",
    "    # Define the optimizer learning rate as a hyperparameter for the Adam optimization\n",
    "    learning_rate = hp.Float(\"lr\", min_value=1e-4, max_value=1e-2, sampling=\"log\")\n",
    "    \n",
    "    # Adam tends to be a generally great choice for optimization so we'll stick with that\n",
    "    model.compile(\n",
    "        optimizer=keras.optimizers.Adam(learning_rate=learning_rate),\n",
    "        loss=\"mean_absolute_error\",\n",
    "        metrics=[\"mean_absolute_error\"],\n",
    "    )\n",
    "    return model\n",
    "\n",
    "# we'll use a random search but can also do Hyperband or Bayesian Optimization\n",
    "tuner = keras_tuner.RandomSearch(\n",
    "    build_model,\n",
    "    objective='val_loss',\n",
    "    max_trials=10 # can make this larger to get more coverage since it is a RANDOM search\n",
    ")\n",
    "\n",
    "# Start the search and get the best model:\n",
    "    \n",
    "tuner.search(X_train_feature_selection, y_train, epochs=100, validation_data=(X_test_feature_selection, y_test))\n"
   ]
  },
  {
   "cell_type": "code",
   "execution_count": 40,
   "id": "f0be2f64",
   "metadata": {},
   "outputs": [
    {
     "name": "stdout",
     "output_type": "stream",
     "text": [
      "Search space summary\n",
      "Default search space size: 9\n",
      "num_layers (Int)\n",
      "{'default': None, 'conditions': [], 'min_value': 1, 'max_value': 5, 'step': 1, 'sampling': None}\n",
      "units_0 (Int)\n",
      "{'default': None, 'conditions': [], 'min_value': 32, 'max_value': 512, 'step': 32, 'sampling': None}\n",
      "activation (Choice)\n",
      "{'default': 'relu', 'conditions': [], 'values': ['relu', 'tanh'], 'ordered': False}\n",
      "dropout (Boolean)\n",
      "{'default': False, 'conditions': []}\n",
      "lr (Float)\n",
      "{'default': 0.0001, 'conditions': [], 'min_value': 0.0001, 'max_value': 0.01, 'step': None, 'sampling': 'log'}\n",
      "units_1 (Int)\n",
      "{'default': None, 'conditions': [], 'min_value': 32, 'max_value': 512, 'step': 32, 'sampling': None}\n",
      "units_2 (Int)\n",
      "{'default': None, 'conditions': [], 'min_value': 32, 'max_value': 512, 'step': 32, 'sampling': None}\n",
      "units_3 (Int)\n",
      "{'default': None, 'conditions': [], 'min_value': 32, 'max_value': 512, 'step': 32, 'sampling': None}\n",
      "units_4 (Int)\n",
      "{'default': None, 'conditions': [], 'min_value': 32, 'max_value': 512, 'step': 32, 'sampling': None}\n"
     ]
    }
   ],
   "source": [
    "tuner.search_space_summary()"
   ]
  },
  {
   "cell_type": "code",
   "execution_count": 41,
   "id": "0de58c9d",
   "metadata": {},
   "outputs": [
    {
     "name": "stdout",
     "output_type": "stream",
     "text": [
      "Results summary\n",
      "Results in ./untitled_project\n",
      "Showing 10 best trials\n",
      "<keras_tuner.engine.objective.Objective object at 0x2c1c02560>\n",
      "Trial summary\n",
      "Hyperparameters:\n",
      "num_layers: 2\n",
      "units_0: 224\n",
      "activation: tanh\n",
      "dropout: True\n",
      "lr: 0.005461586041849058\n",
      "units_1: 32\n",
      "Score: 0.7680091261863708\n",
      "Trial summary\n",
      "Hyperparameters:\n",
      "num_layers: 1\n",
      "units_0: 256\n",
      "activation: tanh\n",
      "dropout: True\n",
      "lr: 0.0015006869040260927\n",
      "units_1: 448\n",
      "units_2: 384\n",
      "units_3: 416\n",
      "units_4: 32\n",
      "Score: 0.7680171132087708\n",
      "Trial summary\n",
      "Hyperparameters:\n",
      "num_layers: 4\n",
      "units_0: 416\n",
      "activation: tanh\n",
      "dropout: True\n",
      "lr: 0.001236434222402599\n",
      "units_1: 384\n",
      "units_2: 64\n",
      "units_3: 32\n",
      "units_4: 128\n",
      "Score: 0.7680281400680542\n",
      "Trial summary\n",
      "Hyperparameters:\n",
      "num_layers: 5\n",
      "units_0: 64\n",
      "activation: tanh\n",
      "dropout: False\n",
      "lr: 0.0005353006242035114\n",
      "units_1: 64\n",
      "units_2: 32\n",
      "units_3: 32\n",
      "units_4: 32\n",
      "Score: 5.438483715057373\n",
      "Trial summary\n",
      "Hyperparameters:\n",
      "num_layers: 4\n",
      "units_0: 352\n",
      "activation: tanh\n",
      "dropout: False\n",
      "lr: 0.004575754932482191\n",
      "units_1: 128\n",
      "units_2: 288\n",
      "units_3: 416\n",
      "units_4: 448\n",
      "Score: 5.438483715057373\n",
      "Trial summary\n",
      "Hyperparameters:\n",
      "num_layers: 5\n",
      "units_0: 160\n",
      "activation: relu\n",
      "dropout: False\n",
      "lr: 0.00023279265289587766\n",
      "units_1: 416\n",
      "units_2: 320\n",
      "units_3: 416\n",
      "units_4: 352\n",
      "Score: 5.438483715057373\n",
      "Trial summary\n",
      "Hyperparameters:\n",
      "num_layers: 4\n",
      "units_0: 128\n",
      "activation: relu\n",
      "dropout: True\n",
      "lr: 0.00013923529473219568\n",
      "units_1: 256\n",
      "units_2: 320\n",
      "units_3: 288\n",
      "units_4: 448\n",
      "Score: 5.438483715057373\n",
      "Trial summary\n",
      "Hyperparameters:\n",
      "num_layers: 2\n",
      "units_0: 512\n",
      "activation: relu\n",
      "dropout: False\n",
      "lr: 0.00030676124291065645\n",
      "units_1: 416\n",
      "units_2: 512\n",
      "units_3: 320\n",
      "units_4: 288\n",
      "Score: 5.438483715057373\n",
      "Trial summary\n",
      "Hyperparameters:\n",
      "num_layers: 4\n",
      "units_0: 160\n",
      "activation: relu\n",
      "dropout: True\n",
      "lr: 0.0003398829436430771\n",
      "units_1: 480\n",
      "units_2: 448\n",
      "units_3: 480\n",
      "units_4: 384\n",
      "Score: 5.438483715057373\n",
      "Trial summary\n",
      "Hyperparameters:\n",
      "num_layers: 3\n",
      "units_0: 160\n",
      "activation: tanh\n",
      "dropout: False\n",
      "lr: 0.0023413221572620322\n",
      "units_1: 256\n",
      "units_2: 320\n",
      "units_3: 64\n",
      "units_4: 384\n",
      "Score: 5.438483715057373\n"
     ]
    }
   ],
   "source": [
    "tuner.results_summary()"
   ]
  },
  {
   "cell_type": "code",
   "execution_count": 45,
   "id": "443a68e4",
   "metadata": {},
   "outputs": [
    {
     "name": "stdout",
     "output_type": "stream",
     "text": [
      "Model: \"sequential_2\"\n",
      "_________________________________________________________________\n",
      " Layer (type)                Output Shape              Param #   \n",
      "=================================================================\n",
      " normalization (Normalizatio  (None, 64)               129       \n",
      " n)                                                              \n",
      "                                                                 \n",
      " dense_7 (Dense)             (None, 224)               14560     \n",
      "                                                                 \n",
      " dropout_1 (Dropout)         (None, 224)               0         \n",
      "                                                                 \n",
      " dense_8 (Dense)             (None, 32)                7200      \n",
      "                                                                 \n",
      " dropout_2 (Dropout)         (None, 32)                0         \n",
      "                                                                 \n",
      " dense_9 (Dense)             (None, 1)                 33        \n",
      "                                                                 \n",
      "=================================================================\n",
      "Total params: 21,922\n",
      "Trainable params: 21,793\n",
      "Non-trainable params: 129\n",
      "_________________________________________________________________\n"
     ]
    }
   ],
   "source": [
    "'''\n",
    "Trial summary\n",
    "Hyperparameters:\n",
    "num_layers: 2\n",
    "units_0: 224\n",
    "activation: tanh\n",
    "dropout: True\n",
    "lr: 0.005461586041849058\n",
    "units_1: 32\n",
    "Score: 0.7680091261863708\n",
    "'''\n",
    "\n",
    "tuned_dnn_model = keras.Sequential([\n",
    "    normalizer,\n",
    "    layers.Dense(224, activation='tanh'),\n",
    "    layers.Dropout(0.25),\n",
    "    layers.Dense(32, activation='tanh'),\n",
    "    layers.Dropout(0.25),\n",
    "    layers.Dense(1, activation='relu')\n",
    "  ])\n",
    "\n",
    "tuned_dnn_model.compile(loss='mean_absolute_error',\n",
    "                optimizer=tf.keras.optimizers.Adam(0.005461586041849058))\n",
    "\n",
    "tuned_dnn_model.summary()"
   ]
  },
  {
   "cell_type": "code",
   "execution_count": 46,
   "id": "32d90b1d",
   "metadata": {},
   "outputs": [
    {
     "data": {
      "image/png": "[encoded data removed]",
      "text/plain": [
       "<Figure size 640x480 with 1 Axes>"
      ]
     },
     "metadata": {},
     "output_type": "display_data"
    }
   ],
   "source": [
    "history = tuned_dnn_model.fit(\n",
    "    X_train_feature_selection,\n",
    "    y_train,\n",
    "    epochs=100,\n",
    "    # Suppress logging.\n",
    "    verbose=0,\n",
    "    # Calculate validation results on 20% of the training data.\n",
    "    validation_split = 0.2)\n",
    "\n",
    "plot_loss(history)"
   ]
  },
  {
   "cell_type": "code",
   "execution_count": 47,
   "id": "037a889b",
   "metadata": {},
   "outputs": [
    {
     "data": {
      "text/plain": [
       "{'linear_model': 1.2721644639968872,\n",
       " 'standard_dnn_model': 0.8905330300331116,\n",
       " 'tuned_dnn_model': 0.7526869177818298}"
      ]
     },
     "execution_count": 47,
     "metadata": {},
     "output_type": "execute_result"
    }
   ],
   "source": [
    "test_results['tuned_dnn_model'] = tuned_dnn_model.evaluate(\n",
    "    X_test_feature_selection, y_test, verbose=0)\n",
    "\n",
    "test_results"
   ]
  },
  {
   "cell_type": "code",
   "execution_count": 54,
   "id": "d8f86cf0",
   "metadata": {},
   "outputs": [
    {
     "name": "stdout",
     "output_type": "stream",
     "text": [
      "Epoch 1/100\n",
      "113/113 [==============================] - 0s 927us/step - loss: 0.6209 - val_loss: 0.7972\n",
      "Epoch 2/100\n",
      "113/113 [==============================] - 0s 595us/step - loss: 0.6208 - val_loss: 0.7977\n",
      "Epoch 3/100\n",
      "113/113 [==============================] - 0s 592us/step - loss: 0.6238 - val_loss: 0.8029\n",
      "Epoch 4/100\n",
      "113/113 [==============================] - 0s 574us/step - loss: 0.6199 - val_loss: 0.8002\n",
      "Epoch 5/100\n",
      "113/113 [==============================] - 0s 690us/step - loss: 0.6196 - val_loss: 0.7955\n",
      "Epoch 6/100\n",
      "113/113 [==============================] - 0s 662us/step - loss: 0.6223 - val_loss: 0.7919\n",
      "Epoch 7/100\n",
      "113/113 [==============================] - 0s 583us/step - loss: 0.6184 - val_loss: 0.7929\n",
      "Epoch 8/100\n",
      "113/113 [==============================] - 0s 588us/step - loss: 0.6216 - val_loss: 0.7944\n",
      "Epoch 9/100\n",
      "113/113 [==============================] - 0s 593us/step - loss: 0.6204 - val_loss: 0.7938\n",
      "Epoch 10/100\n",
      "113/113 [==============================] - 0s 710us/step - loss: 0.6226 - val_loss: 0.7905\n",
      "Epoch 11/100\n",
      "113/113 [==============================] - 0s 587us/step - loss: 0.6203 - val_loss: 0.7936\n",
      "Epoch 12/100\n",
      "113/113 [==============================] - 0s 579us/step - loss: 0.6195 - val_loss: 0.8001\n",
      "Epoch 13/100\n",
      "113/113 [==============================] - 0s 574us/step - loss: 0.6193 - val_loss: 0.8020\n",
      "Epoch 14/100\n",
      "113/113 [==============================] - 0s 572us/step - loss: 0.6160 - val_loss: 0.8044\n",
      "Epoch 15/100\n",
      "113/113 [==============================] - 0s 572us/step - loss: 0.6112 - val_loss: 0.7971\n",
      "Epoch 16/100\n",
      "113/113 [==============================] - 0s 573us/step - loss: 0.6209 - val_loss: 0.7935\n",
      "Epoch 17/100\n",
      "113/113 [==============================] - 0s 576us/step - loss: 0.6259 - val_loss: 0.8033\n",
      "Epoch 18/100\n",
      "113/113 [==============================] - 0s 689us/step - loss: 0.6225 - val_loss: 0.7870\n",
      "Epoch 19/100\n",
      "113/113 [==============================] - 0s 691us/step - loss: 0.6178 - val_loss: 0.7865\n",
      "Epoch 20/100\n",
      "113/113 [==============================] - 0s 575us/step - loss: 0.6196 - val_loss: 0.7925\n",
      "Epoch 21/100\n",
      "113/113 [==============================] - 0s 577us/step - loss: 0.6196 - val_loss: 0.7911\n",
      "Epoch 22/100\n",
      "113/113 [==============================] - 0s 594us/step - loss: 0.6143 - val_loss: 0.7900\n",
      "Epoch 23/100\n",
      "113/113 [==============================] - 0s 587us/step - loss: 0.6153 - val_loss: 0.7946\n",
      "Epoch 24/100\n",
      "113/113 [==============================] - 0s 584us/step - loss: 0.6150 - val_loss: 0.7895\n",
      "Epoch 25/100\n",
      "113/113 [==============================] - 0s 574us/step - loss: 0.6148 - val_loss: 0.7979\n",
      "Epoch 26/100\n",
      "113/113 [==============================] - 0s 573us/step - loss: 0.6125 - val_loss: 0.7962\n",
      "Epoch 27/100\n",
      "113/113 [==============================] - 0s 603us/step - loss: 0.6165 - val_loss: 0.7982\n",
      "Epoch 28/100\n",
      "113/113 [==============================] - 0s 585us/step - loss: 0.6135 - val_loss: 0.8002\n",
      "Epoch 29/100\n",
      "113/113 [==============================] - 0s 588us/step - loss: 0.6165 - val_loss: 0.7927\n",
      "Epoch 30/100\n",
      "113/113 [==============================] - 0s 590us/step - loss: 0.6095 - val_loss: 0.7996\n",
      "Epoch 31/100\n",
      "113/113 [==============================] - 0s 589us/step - loss: 0.6109 - val_loss: 0.7940\n",
      "Epoch 32/100\n",
      "113/113 [==============================] - 0s 590us/step - loss: 0.6061 - val_loss: 0.7998\n",
      "Epoch 33/100\n",
      "113/113 [==============================] - 0s 589us/step - loss: 0.6128 - val_loss: 0.8016\n",
      "Epoch 34/100\n",
      "113/113 [==============================] - 0s 595us/step - loss: 0.6110 - val_loss: 0.7973\n",
      "Epoch 35/100\n",
      "113/113 [==============================] - 0s 587us/step - loss: 0.6095 - val_loss: 0.8125\n",
      "Epoch 36/100\n",
      "113/113 [==============================] - 0s 595us/step - loss: 0.6087 - val_loss: 0.8019\n",
      "Epoch 37/100\n",
      "113/113 [==============================] - 0s 589us/step - loss: 0.6126 - val_loss: 0.7959\n",
      "Epoch 38/100\n",
      "113/113 [==============================] - 0s 597us/step - loss: 0.6136 - val_loss: 0.8159\n",
      "Epoch 39/100\n",
      "113/113 [==============================] - 0s 596us/step - loss: 0.6149 - val_loss: 0.8126\n",
      "Epoch 40/100\n",
      "113/113 [==============================] - 0s 588us/step - loss: 0.6127 - val_loss: 0.8012\n",
      "Epoch 41/100\n",
      "113/113 [==============================] - 0s 588us/step - loss: 0.6045 - val_loss: 0.7976\n",
      "Epoch 42/100\n",
      "113/113 [==============================] - 0s 587us/step - loss: 0.6083 - val_loss: 0.8158\n",
      "Epoch 43/100\n",
      "113/113 [==============================] - 0s 600us/step - loss: 0.6131 - val_loss: 0.7983\n",
      "Epoch 44/100\n",
      "113/113 [==============================] - 0s 596us/step - loss: 0.6119 - val_loss: 0.8131\n",
      "Epoch 45/100\n",
      "113/113 [==============================] - 0s 587us/step - loss: 0.6122 - val_loss: 0.7998\n",
      "Epoch 46/100\n",
      "113/113 [==============================] - 0s 588us/step - loss: 0.6061 - val_loss: 0.8111\n",
      "Epoch 47/100\n",
      "113/113 [==============================] - 0s 595us/step - loss: 0.6055 - val_loss: 0.7994\n",
      "Epoch 48/100\n",
      "113/113 [==============================] - 0s 599us/step - loss: 0.6054 - val_loss: 0.8018\n",
      "Epoch 49/100\n",
      "113/113 [==============================] - 0s 600us/step - loss: 0.6072 - val_loss: 0.7991\n",
      "Epoch 50/100\n",
      "113/113 [==============================] - 0s 599us/step - loss: 0.6047 - val_loss: 0.8076\n",
      "Epoch 51/100\n",
      "113/113 [==============================] - 0s 595us/step - loss: 0.6003 - val_loss: 0.8114\n",
      "Epoch 52/100\n",
      "113/113 [==============================] - 0s 600us/step - loss: 0.6058 - val_loss: 0.8005\n",
      "Epoch 53/100\n",
      "113/113 [==============================] - 0s 679us/step - loss: 0.6042 - val_loss: 0.8113\n",
      "Epoch 54/100\n",
      "113/113 [==============================] - 0s 613us/step - loss: 0.6038 - val_loss: 0.7959\n",
      "Epoch 55/100\n",
      "113/113 [==============================] - 0s 592us/step - loss: 0.6055 - val_loss: 0.7977\n",
      "Epoch 56/100\n",
      "113/113 [==============================] - 0s 586us/step - loss: 0.6051 - val_loss: 0.7941\n",
      "Epoch 57/100\n",
      "113/113 [==============================] - 0s 575us/step - loss: 0.6046 - val_loss: 0.8012\n",
      "Epoch 58/100\n",
      "113/113 [==============================] - 0s 578us/step - loss: 0.6048 - val_loss: 0.7912\n",
      "Epoch 59/100\n",
      "113/113 [==============================] - 0s 576us/step - loss: 0.5987 - val_loss: 0.8027\n",
      "Epoch 60/100\n",
      "113/113 [==============================] - 0s 684us/step - loss: 0.6003 - val_loss: 0.7861\n",
      "Epoch 61/100\n",
      "113/113 [==============================] - 0s 581us/step - loss: 0.6060 - val_loss: 0.7959\n",
      "Epoch 62/100\n",
      "113/113 [==============================] - 0s 614us/step - loss: 0.6034 - val_loss: 0.7933\n",
      "Epoch 63/100\n",
      "113/113 [==============================] - 0s 602us/step - loss: 0.6067 - val_loss: 0.8032\n",
      "Epoch 64/100\n",
      "113/113 [==============================] - 0s 593us/step - loss: 0.5998 - val_loss: 0.8216\n",
      "Epoch 65/100\n",
      "113/113 [==============================] - 0s 589us/step - loss: 0.6052 - val_loss: 0.7991\n",
      "Epoch 66/100\n",
      "113/113 [==============================] - 0s 585us/step - loss: 0.5970 - val_loss: 0.8013\n",
      "Epoch 67/100\n",
      "113/113 [==============================] - 0s 581us/step - loss: 0.6048 - val_loss: 0.8049\n",
      "Epoch 68/100\n",
      "113/113 [==============================] - 0s 584us/step - loss: 0.6051 - val_loss: 0.7959\n",
      "Epoch 69/100\n",
      "113/113 [==============================] - 0s 597us/step - loss: 0.6001 - val_loss: 0.7965\n",
      "Epoch 70/100\n",
      "113/113 [==============================] - 0s 596us/step - loss: 0.6012 - val_loss: 0.8210\n",
      "Epoch 71/100\n",
      "113/113 [==============================] - 0s 595us/step - loss: 0.6010 - val_loss: 0.8033\n",
      "Epoch 72/100\n",
      "113/113 [==============================] - 0s 591us/step - loss: 0.5987 - val_loss: 0.8220\n",
      "Epoch 73/100\n",
      "113/113 [==============================] - 0s 591us/step - loss: 0.5954 - val_loss: 0.7981\n",
      "Epoch 74/100\n",
      "113/113 [==============================] - 0s 594us/step - loss: 0.5914 - val_loss: 0.8021\n",
      "Epoch 75/100\n",
      "113/113 [==============================] - 0s 601us/step - loss: 0.5973 - val_loss: 0.8062\n",
      "Epoch 76/100\n",
      "113/113 [==============================] - 0s 597us/step - loss: 0.5985 - val_loss: 0.8068\n",
      "Epoch 77/100\n",
      "113/113 [==============================] - 0s 593us/step - loss: 0.6050 - val_loss: 0.7930\n",
      "Epoch 78/100\n",
      "113/113 [==============================] - 0s 596us/step - loss: 0.6041 - val_loss: 0.7998\n",
      "Epoch 79/100\n",
      "113/113 [==============================] - 0s 598us/step - loss: 0.5926 - val_loss: 0.8085\n"
     ]
    },
    {
     "name": "stdout",
     "output_type": "stream",
     "text": [
      "Epoch 80/100\n",
      "113/113 [==============================] - 0s 591us/step - loss: 0.5997 - val_loss: 0.8005\n",
      "Epoch 81/100\n",
      "113/113 [==============================] - 0s 579us/step - loss: 0.5956 - val_loss: 0.8069\n",
      "Epoch 82/100\n",
      "113/113 [==============================] - 0s 574us/step - loss: 0.5981 - val_loss: 0.8093\n",
      "Epoch 83/100\n",
      "113/113 [==============================] - 0s 576us/step - loss: 0.6034 - val_loss: 0.8002\n",
      "Epoch 84/100\n",
      "113/113 [==============================] - 0s 576us/step - loss: 0.6018 - val_loss: 0.7987\n",
      "Epoch 85/100\n",
      "113/113 [==============================] - 0s 576us/step - loss: 0.5980 - val_loss: 0.8000\n",
      "Epoch 86/100\n",
      "113/113 [==============================] - 0s 576us/step - loss: 0.6000 - val_loss: 0.7947\n",
      "Epoch 87/100\n",
      "113/113 [==============================] - 0s 576us/step - loss: 0.5973 - val_loss: 0.8087\n",
      "Epoch 88/100\n",
      "113/113 [==============================] - 0s 577us/step - loss: 0.5901 - val_loss: 0.8011\n",
      "Epoch 89/100\n",
      "113/113 [==============================] - 0s 577us/step - loss: 0.5957 - val_loss: 0.8032\n",
      "Epoch 90/100\n",
      "113/113 [==============================] - 0s 577us/step - loss: 0.5918 - val_loss: 0.8020\n",
      "Epoch 91/100\n",
      "113/113 [==============================] - 0s 576us/step - loss: 0.5933 - val_loss: 0.7990\n",
      "Epoch 92/100\n",
      "113/113 [==============================] - 0s 573us/step - loss: 0.5976 - val_loss: 0.8006\n",
      "Epoch 93/100\n",
      "113/113 [==============================] - 0s 574us/step - loss: 0.5946 - val_loss: 0.8078\n",
      "Epoch 94/100\n",
      "113/113 [==============================] - 0s 575us/step - loss: 0.5948 - val_loss: 0.8126\n",
      "Epoch 95/100\n",
      "113/113 [==============================] - 0s 572us/step - loss: 0.5954 - val_loss: 0.8055\n",
      "Epoch 96/100\n",
      "113/113 [==============================] - 0s 576us/step - loss: 0.5924 - val_loss: 0.8104\n",
      "Epoch 97/100\n",
      "113/113 [==============================] - 0s 573us/step - loss: 0.5971 - val_loss: 0.7921\n",
      "Epoch 98/100\n",
      "113/113 [==============================] - 0s 575us/step - loss: 0.5900 - val_loss: 0.7913\n",
      "Epoch 99/100\n",
      "113/113 [==============================] - 0s 572us/step - loss: 0.5901 - val_loss: 0.8024\n",
      "Epoch 100/100\n",
      "113/113 [==============================] - 0s 575us/step - loss: 0.5957 - val_loss: 0.7995\n"
     ]
    },
    {
     "data": {
      "text/plain": [
       "<keras.callbacks.History at 0x2d1ef90c0>"
      ]
     },
     "execution_count": 54,
     "metadata": {},
     "output_type": "execute_result"
    }
   ],
   "source": [
    "# let's save this best model\n",
    "save_best_model = tf.keras.callbacks.ModelCheckpoint('keras acoustics tmp/', monitor='val_loss', \n",
    "                                  save_best_only=True, save_weights_only=True)\n",
    "\n",
    "# fit model and save the best (of the 100 epochs) to \"keras acoustics tmp\" folder\n",
    "tuned_dnn_model.fit(X_train_feature_selection, y_train, \n",
    "              batch_size=64,\n",
    "              epochs=100,\n",
    "              validation_data=(X_test_feature_selection, y_test), \n",
    "              callbacks=[save_best_model])"
   ]
  },
  {
   "cell_type": "code",
   "execution_count": 55,
   "id": "d7d43848",
   "metadata": {},
   "outputs": [
    {
     "data": {
      "text/plain": [
       "<tensorflow.python.checkpoint.checkpoint.CheckpointLoadStatus at 0x2d06f0550>"
      ]
     },
     "execution_count": 55,
     "metadata": {},
     "output_type": "execute_result"
    }
   ],
   "source": [
    "# reload the best model with:\n",
    "# tuned_dnn_model.load_weights('keras acoustics tmp/')\n",
    "\n",
    "# evaluate with\n",
    "# tuned_dnn_model.evaluate(X_test, y_test, verbose=0)"
   ]
  },
  {
   "cell_type": "code",
   "execution_count": null,
   "id": "e31828c1",
   "metadata": {},
   "outputs": [],
   "source": []
  },
  {
   "cell_type": "code",
   "execution_count": null,
   "id": "044ce456",
   "metadata": {},
   "outputs": [],
   "source": []
  },
  {
   "cell_type": "code",
   "execution_count": null,
   "id": "93fadd30",
   "metadata": {},
   "outputs": [],
   "source": []
  },
  {
   "cell_type": "markdown",
   "id": "b1b7b35f",
   "metadata": {},
   "source": [
    "### now we know which model and hyperparameters maximizes our train and validate data so we can load in our test data and test that best model on it for a final score!"
   ]
  },
  {
   "cell_type": "code",
   "execution_count": null,
   "id": "cf6c5baa",
   "metadata": {},
   "outputs": [],
   "source": [
    "# MAE FROM RANDOM FOREST"
   ]
  },
  {
   "cell_type": "code",
   "execution_count": 48,
   "id": "811aa6eb",
   "metadata": {},
   "outputs": [],
   "source": [
    "test = pd.read_csv('../Data/Acoustic Data/TEST acoustic data.csv')"
   ]
  },
  {
   "cell_type": "code",
   "execution_count": 49,
   "id": "e8be887c",
   "metadata": {},
   "outputs": [],
   "source": [
    "X_test = test[all_float_or_int_features].replace((np.inf, -np.inf, np.nan), 0)\n",
    "X_test_feature_selection = X_test.iloc[:,cols]\n",
    "y_test = test['dominance_tags']"
   ]
  },
  {
   "cell_type": "code",
   "execution_count": 51,
   "id": "cb6df601",
   "metadata": {},
   "outputs": [
    {
     "name": "stdout",
     "output_type": "stream",
     "text": [
      "mean absolute error on test set:  0.7778821301147701\n"
     ]
    }
   ],
   "source": [
    "from sklearn.ensemble import RandomForestRegressor\n",
    "from sklearn.metrics import mean_absolute_error\n",
    "\n",
    "final_model = RandomForestRegressor(min_samples_leaf=10, n_estimators=68) # define the best model with the best parameters here\n",
    "final_model.fit(X_train_validate_feature_selection, ytrain_validate_dominance)\n",
    "\n",
    "# evaluate the model\n",
    "y_pred = final_model.predict(X_test_feature_selection)\n",
    "\n",
    "# evaluate predictions\n",
    "mae = mean_absolute_error(y_test, y_pred)\n",
    "\n",
    "print('mean absolute error on test set (random forest): ', mae)"
   ]
  },
  {
   "cell_type": "code",
   "execution_count": 56,
   "id": "8d9ab49c",
   "metadata": {},
   "outputs": [],
   "source": [
    "# MAE FROM neural network"
   ]
  },
  {
   "cell_type": "code",
   "execution_count": 58,
   "id": "64bb5172",
   "metadata": {},
   "outputs": [
    {
     "name": "stdout",
     "output_type": "stream",
     "text": [
      "mean absolute error on test set (neural network):  0.7860860824584961\n"
     ]
    }
   ],
   "source": [
    "# reload the best model with:\n",
    "tuned_dnn_model.load_weights('keras acoustics tmp/')\n",
    "\n",
    "# evaluate with:\n",
    "mae_nn = tuned_dnn_model.evaluate(X_test_feature_selection, y_test, verbose=0)\n",
    "\n",
    "print('mean absolute error on test set (neural network): ', mae_nn)"
   ]
  },
  {
   "cell_type": "code",
   "execution_count": null,
   "id": "3f06bcd1",
   "metadata": {},
   "outputs": [],
   "source": []
  },
  {
   "cell_type": "code",
   "execution_count": null,
   "id": "e11d8cbe",
   "metadata": {},
   "outputs": [],
   "source": []
  }
 ],
 "metadata": {
  "kernelspec": {
   "display_name": "Python 3 (ipykernel)",
   "language": "python",
   "name": "python3"
  },
  "language_info": {
   "codemirror_mode": {
    "name": "ipython",
    "version": 3
   },
   "file_extension": ".py",
   "mimetype": "text/x-python",
   "name": "python",
   "nbconvert_exporter": "python",
   "pygments_lexer": "ipython3",
   "version": "3.10.0"
  }
 },
 "nbformat": 4,
 "nbformat_minor": 5
}
